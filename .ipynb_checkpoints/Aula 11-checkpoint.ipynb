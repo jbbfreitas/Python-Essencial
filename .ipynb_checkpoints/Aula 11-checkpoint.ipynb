{
 "cells": [
  {
   "cell_type": "markdown",
   "metadata": {},
   "source": [
    "#### Faça um programa que converta da notação de 24 horas para a notação de 12 horas. Por exemplo, o programa deve converter 14:25 em 2:25 P.M. A entrada é dada em dois inteiros. Deve haver pelo menos duas funções: uma para fazer a conversão e uma para formatar os minutos: por exemplo se for informado 12:1 a função deverá retornar 12:01 PM "
   ]
  },
  {
   "cell_type": "code",
   "execution_count": 1,
   "metadata": {},
   "outputs": [],
   "source": [
    "def converte_horas(hora, minuto):\n",
    "    if(hora>12):\n",
    "        hora=hora-12\n",
    "        complemento=\"P.M\"\n",
    "    elif ((hora==12) & (minuto>0)):\n",
    "        complemento=\"P.M\"\n",
    "    else:    \n",
    "        complemento=\"A.M\"\n",
    "    return str(hora)+\":\"+formata_minuto(minuto)+\" \"+complemento \n",
    "\n",
    "\n",
    "def formata_minuto(minuto):\n",
    "    if(minuto<10):\n",
    "        minuto=\"0\"+str(minuto)\n",
    "    else:\n",
    "        minuto=str(minuto)\n",
    "        \n",
    "    return minuto    "
   ]
  },
  {
   "cell_type": "code",
   "execution_count": 3,
   "metadata": {},
   "outputs": [
    {
     "name": "stdout",
     "output_type": "stream",
     "text": [
      "11:12 P.M\n"
     ]
    }
   ],
   "source": [
    "print converte_horas(23,12)\n"
   ]
  },
  {
   "cell_type": "markdown",
   "metadata": {},
   "source": [
    "#### Faça um programa que use a função `valor_pagamento` para determinar o valor a ser pago por uma prestação de uma conta. O programa deverá solicitar ao usuário o valor da prestação e o número de dias em atraso e passar estes valores para a função `valor_pagamento`, que calculará o valor a ser pago e devolverá este valor ao programa que a chamou. O programa deverá então exibir o valor a ser pago na tela. Após a execução o programa deverá voltar a pedir outro valor de prestação e assim continuar até que seja informado um valor igual a zero para a prestação. Neste momento o programa deverá ser encerrado, exibindo o relatório do dia, que conterá a quantidade e o valor total de prestações pagas no dia. O cálculo do valor a ser pago é feito da seguinte forma. Para pagamentos sem atraso, cobrar o valor da prestação. Quando houver atraso, cobrar 3% de multa, mais 0,1% de juros por dia de atraso.\n"
   ]
  },
  {
   "cell_type": "code",
   "execution_count": 1,
   "metadata": {},
   "outputs": [],
   "source": [
    "def valor_pagamento(valor_prest, num_dias):\n",
    "    valor_prest = float(valor_prest)\n",
    "    num_dias = float(num_dias)\n",
    "    if(num_dias)>0:\n",
    "        return valor_prest*(1+0.03+num_dias*0.01)\n",
    "    else:\n",
    "        return valor_prest"
   ]
  },
  {
   "cell_type": "code",
   "execution_count": 2,
   "metadata": {},
   "outputs": [
    {
     "name": "stdout",
     "output_type": "stream",
     "text": [
      "Valor :20\n",
      "Dias :10\n",
      "Valor :0\n",
      "Foram pagas 1 prestações com um total de 22.6\n"
     ]
    }
   ],
   "source": [
    "total_pago=0\n",
    "num_pagamentos=0\n",
    "while True:    \n",
    "    valor_prest = raw_input(\"Valor :\")\n",
    "    if (valor_prest==\"0\"): \n",
    "        break\n",
    "    else:\n",
    "        num_dias = raw_input(\"Dias :\")\n",
    "        total_pago=total_pago+valor_pagamento(valor_prest,num_dias)\n",
    "        num_pagamentos=num_pagamentos+1\n",
    "print \"Foram pagas {} prestações com um total de {}\".format(num_pagamentos,total_pago)    \n",
    "        "
   ]
  }
 ],
 "metadata": {
  "kernelspec": {
   "display_name": "Python 2",
   "language": "python",
   "name": "python2"
  },
  "language_info": {
   "codemirror_mode": {
    "name": "ipython",
    "version": 2
   },
   "file_extension": ".py",
   "mimetype": "text/x-python",
   "name": "python",
   "nbconvert_exporter": "python",
   "pygments_lexer": "ipython2",
   "version": "2.7.16"
  }
 },
 "nbformat": 4,
 "nbformat_minor": 2
}
